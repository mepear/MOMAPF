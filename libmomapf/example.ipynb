{
 "cells": [
  {
   "cell_type": "code",
   "execution_count": 1,
   "id": "f38f310b",
   "metadata": {
    "pycharm": {
     "is_executing": false
    }
   },
   "outputs": [],
   "source": [
    "%load_ext autoreload\n",
    "%autoreload 2"
   ]
  },
  {
   "cell_type": "code",
   "execution_count": 2,
   "id": "1e819667",
   "metadata": {
    "pycharm": {
     "is_executing": false
    }
   },
   "outputs": [],
   "source": [
    "from utils import *\n",
    "import numpy as np"
   ]
  },
  {
   "cell_type": "code",
   "execution_count": 3,
   "id": "52dc691f",
   "metadata": {
    "pycharm": {
     "is_executing": false
    }
   },
   "outputs": [],
   "source": [
    "class CostBound:\n",
    "    def __init__(self, lb, ub):\n",
    "        self.lb = lb\n",
    "        self.ub = ub"
   ]
  },
  {
   "cell_type": "code",
   "execution_count": 4,
   "id": "1cbd7525",
   "metadata": {
    "pycharm": {
     "is_executing": false
    }
   },
   "outputs": [],
   "source": [
    "# lb = (2,4,3)\n",
    "# ub = [(8,4,5)]\n",
    "# path_cost = [(1,5,4), (1,6,3), (2,3,5), (2,5,3), (3,5,2), (4,3,1), (7,2,10), (8,1,11)]\n",
    "lb = (5,5)\n",
    "ub = [(7, 5)]\n",
    "path_cost = [(2,9), (4,8), (6,7), (8,4)]\n",
    "paths = [(p, p) for p in path_cost]"
   ]
  },
  {
   "cell_type": "code",
   "execution_count": 5,
   "id": "8bb93178",
   "metadata": {
    "pycharm": {
     "is_executing": false
    }
   },
   "outputs": [],
   "source": [
    "def comax(v1, v2):\n",
    "    # Assumption: v1 and any v2 in V2 only contain non-negative component\n",
    "    # V2 is sorted lexicographically\n",
    "\n",
    "    return tuple(max(n1, n2) for n1, n2 in zip(v1, v2))\n",
    "\n",
    "def ndcomax(v1, V2):\n",
    "    # Assumption: v1 and any v2 in V2 only contain non-negative component\n",
    "    # V2 is sorted lexicographically\n",
    "    \n",
    "    res = []\n",
    "    tr_vecs = []\n",
    "    \n",
    "    for new_vec in sorted(comax(v1, v2) for v2 in V2):\n",
    "#         new_vec = vec_max(v1, v2)\n",
    "        if is_weakly_dominated_it(tr(new_vec), tr_vecs):\n",
    "            continue\n",
    "        res.append(new_vec)\n",
    "        tr_vecs = update_list_it(tr_vecs, tr(new_vec))\n",
    "        \n",
    "    return res\n",
    "\n",
    "def ndcomax_path(v1, V2):\n",
    "    # Assumption: v1 and any v2 in V2 only contain non-negative component\n",
    "    # V2 is sorted lexicographically\n",
    "    # V2 = [(cost1, path1), (cost2, path2) .... ]\n",
    "    \n",
    "    \n",
    "    res = []\n",
    "    tr_vecs = []\n",
    "    \n",
    "    for new_vec in sorted((comax(v1, v2), v2, path) for v2, path in V2):\n",
    "#         new_vec = vec_max(v1, v2)\n",
    "        if is_weakly_dominated_it(tr(new_vec[0]), tr_vecs):\n",
    "            continue\n",
    "        res.append(new_vec)\n",
    "        tr_vecs = update_list_it(tr_vecs, tr(new_vec[0]))\n",
    "        \n",
    "    return res\n",
    "\n",
    "\n",
    "  "
   ]
  },
  {
   "cell_type": "code",
   "execution_count": 6,
   "id": "de413af7",
   "metadata": {
    "pycharm": {
     "is_executing": false
    }
   },
   "outputs": [],
   "source": [
    "def gen_splitting(lb, ub, paths):\n",
    "    prev = []\n",
    "\n",
    "    for lower_bound, cost, path in ndcomax_path(lb, paths):\n",
    "        new_lb = lower_bound\n",
    "        new_ub = [comax(u, lower_bound) for u in ub]\n",
    "        for p in prev:\n",
    "            new_ub = update_list_it(new_ub, comax(p, lower_bound))\n",
    "        \n",
    "        flag = True\n",
    "        for item in new_ub:\n",
    "            if item == new_lb:\n",
    "                flag = False\n",
    " \n",
    "        if flag:\n",
    "            prev.append(lower_bound)\n",
    "            print(f\"{path} - {new_lb} - {new_ub}\")\n",
    "          "
   ]
  },
  {
   "cell_type": "code",
   "execution_count": 7,
   "id": "2ae93911",
   "metadata": {
    "pycharm": {
     "is_executing": false
    }
   },
   "outputs": [
    {
     "name": "stdout",
     "text": [
      "(4, 8) - (5, 8) - [(7, 8)]\n",
      "(6, 7) - (6, 7) - [(6, 8), (7, 7)]\n"
     ],
     "output_type": "stream"
    }
   ],
   "source": [
    "gen_splitting(lb, ub, paths)"
   ]
  },
  {
   "cell_type": "code",
   "execution_count": 7,
   "id": "261eff94",
   "metadata": {
    "pycharm": {
     "is_executing": false
    }
   },
   "outputs": [],
   "source": []
  }
 ],
 "metadata": {
  "kernelspec": {
   "display_name": "Python 3 (ipykernel)",
   "language": "python",
   "name": "python3"
  },
  "language_info": {
   "codemirror_mode": {
    "name": "ipython",
    "version": 3
   },
   "file_extension": ".py",
   "mimetype": "text/x-python",
   "name": "python",
   "nbconvert_exporter": "python",
   "pygments_lexer": "ipython3",
   "version": "3.9.7"
  },
  "pycharm": {
   "stem_cell": {
    "cell_type": "raw",
    "source": [],
    "metadata": {
     "collapsed": false
    }
   }
  }
 },
 "nbformat": 4,
 "nbformat_minor": 5
}