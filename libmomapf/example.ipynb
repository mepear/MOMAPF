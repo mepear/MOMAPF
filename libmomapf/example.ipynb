{
 "cells": [
  {
   "cell_type": "code",
   "execution_count": 1,
   "id": "f38f310b",
   "metadata": {},
   "outputs": [],
   "source": [
    "%load_ext autoreload\n",
    "%autoreload 2"
   ]
  },
  {
   "cell_type": "code",
   "execution_count": 2,
   "id": "1e819667",
   "metadata": {},
   "outputs": [],
   "source": [
    "from utils import *"
   ]
  },
  {
   "cell_type": "code",
   "execution_count": 3,
   "id": "52dc691f",
   "metadata": {},
   "outputs": [],
   "source": [
    "class CostBound:\n",
    "    def __init__(self, lb, ub):\n",
    "        self.lb = lb\n",
    "        self.ub = ub"
   ]
  },
  {
   "cell_type": "code",
   "execution_count": 4,
   "id": "1cbd7525",
   "metadata": {},
   "outputs": [],
   "source": [
    "lb = (2,4, 3)\n",
    "ub = [(8,4,5)]\n",
    "path_cost = [(1,5,4), (1,6, 3), (2,3,5), (2,5,3), (3,5, 2), (4,3, 1), (7,2, 10), (8,1, 11)]\n",
    "paths = [(p, p) for p in path_cost]"
   ]
  },
  {
   "cell_type": "code",
   "execution_count": 5,
   "id": "8bb93178",
   "metadata": {},
   "outputs": [],
   "source": [
    "def comax(v1, v2):\n",
    "    # Assumption: v1 and any v2 in V2 only contain non-negative component\n",
    "    # V2 is sorted lexicographically\n",
    "\n",
    "    return tuple(max(n1, n2) for n1, n2 in zip(v1, v2))\n",
    "\n",
    "def ndcomax(v1, V2):\n",
    "    # Assumption: v1 and any v2 in V2 only contain non-negative component\n",
    "    # V2 is sorted lexicographically\n",
    "    \n",
    "    res = []\n",
    "    tr_vecs = []\n",
    "    \n",
    "    for new_vec in sorted(comax(v1, v2) for v2 in V2):\n",
    "#         new_vec = vec_max(v1, v2)\n",
    "        if is_weakly_dominated_it(tr(new_vec), tr_vecs):\n",
    "            continue\n",
    "        res.append(new_vec)\n",
    "        tr_vecs = update_list_it(tr_vecs, tr(new_vec))\n",
    "        \n",
    "    return res\n",
    "\n",
    "def ndcomax_path(v1, V2):\n",
    "    # Assumption: v1 and any v2 in V2 only contain non-negative component\n",
    "    # V2 is sorted lexicographically\n",
    "    # V2 = [(cost1, path1), (cos2, path2) .... ]\n",
    "    \n",
    "    \n",
    "    res = []\n",
    "    tr_vecs = []\n",
    "    \n",
    "    for new_vec in sorted((comax(v1, v2), path) for v2, path in V2):\n",
    "#         new_vec = vec_max(v1, v2)\n",
    "        if is_weakly_dominated_it(tr(new_vec[0]), tr_vecs):\n",
    "            continue\n",
    "        res.append(new_vec)\n",
    "        tr_vecs = update_list_it(tr_vecs, tr(new_vec[0]))\n",
    "        \n",
    "    return res\n",
    "\n",
    "\n",
    "  "
   ]
  },
  {
   "cell_type": "code",
   "execution_count": 6,
   "id": "de413af7",
   "metadata": {},
   "outputs": [],
   "source": [
    "def gen_splitting(lb, ub, paths):\n",
    "    prev = []\n",
    "\n",
    "    for cost, path in ndcomax_path(lb, paths):\n",
    "        new_lb = cost\n",
    "        new_ub = [comax(u, cost) for u in ub]\n",
    "        for p in prev:\n",
    "            new_ub = update_list_it(new_ub, comax(p, cost))\n",
    "\n",
    "        print(f\"{path} - {new_lb} - {new_ub}\")\n",
    "        prev.append(cost)\n"
   ]
  },
  {
   "cell_type": "code",
   "execution_count": 7,
   "id": "2ae93911",
   "metadata": {},
   "outputs": [
    {
     "name": "stdout",
     "output_type": "stream",
     "text": [
      "(2, 3, 5) - (2, 4, 5) - [(8, 4, 5)]\n",
      "(2, 5, 3) - (2, 5, 3) - [(2, 5, 5)]\n",
      "(4, 3, 1) - (4, 4, 3) - [(4, 5, 3), (4, 4, 5)]\n"
     ]
    }
   ],
   "source": [
    "gen_splitting(lb, ub, paths)"
   ]
  },
  {
   "cell_type": "code",
   "execution_count": null,
   "id": "261eff94",
   "metadata": {},
   "outputs": [],
   "source": []
  }
 ],
 "metadata": {
  "kernelspec": {
   "display_name": "Python 3 (ipykernel)",
   "language": "python",
   "name": "python3"
  },
  "language_info": {
   "codemirror_mode": {
    "name": "ipython",
    "version": 3
   },
   "file_extension": ".py",
   "mimetype": "text/x-python",
   "name": "python",
   "nbconvert_exporter": "python",
   "pygments_lexer": "ipython3",
   "version": "3.9.7"
  }
 },
 "nbformat": 4,
 "nbformat_minor": 5
}
