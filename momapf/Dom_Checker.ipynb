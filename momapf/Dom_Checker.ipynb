{
 "cells": [
  {
   "cell_type": "code",
   "execution_count": 1,
   "id": "1d481c95",
   "metadata": {},
   "outputs": [],
   "source": [
    "from utils import DomChecker"
   ]
  },
  {
   "cell_type": "code",
   "execution_count": 11,
   "id": "dbc06d15",
   "metadata": {},
   "outputs": [],
   "source": [
    "dm = DomChecker()\n",
    "dm.insert((50, 23))\n"
   ]
  },
  {
   "cell_type": "code",
   "execution_count": 22,
   "id": "bdd1234f",
   "metadata": {},
   "outputs": [
    {
     "data": {
      "text/plain": [
       "[(12, 22), (13, 2)]"
      ]
     },
     "execution_count": 22,
     "metadata": {},
     "output_type": "execute_result"
    }
   ],
   "source": [
    "dm"
   ]
  },
  {
   "cell_type": "code",
   "execution_count": 25,
   "id": "53e939d6",
   "metadata": {},
   "outputs": [
    {
     "data": {
      "text/plain": [
       "True"
      ]
     },
     "execution_count": 25,
     "metadata": {},
     "output_type": "execute_result"
    }
   ],
   "source": [
    "dm.is_dominated((13,4))"
   ]
  },
  {
   "cell_type": "code",
   "execution_count": 21,
   "id": "66e80f76",
   "metadata": {},
   "outputs": [],
   "source": [
    "dm.insert((13, 2))"
   ]
  },
  {
   "cell_type": "code",
   "execution_count": 36,
   "id": "b0f8626c",
   "metadata": {},
   "outputs": [
    {
     "data": {
      "text/plain": [
       "(4, 5)"
      ]
     },
     "execution_count": 36,
     "metadata": {},
     "output_type": "execute_result"
    }
   ],
   "source": [
    "val = (2,4,5)\n",
    "val[1:]"
   ]
  },
  {
   "cell_type": "code",
   "execution_count": 39,
   "id": "01e73248",
   "metadata": {},
   "outputs": [
    {
     "data": {
      "text/plain": [
       "(1, 1, 1)"
      ]
     },
     "execution_count": 39,
     "metadata": {},
     "output_type": "execute_result"
    }
   ],
   "source": [
    "tuple(1 for _ in range(3))"
   ]
  },
  {
   "cell_type": "code",
   "execution_count": null,
   "id": "5696db74",
   "metadata": {},
   "outputs": [],
   "source": []
  }
 ],
 "metadata": {
  "kernelspec": {
   "display_name": "Python 3 (ipykernel)",
   "language": "python",
   "name": "python3"
  },
  "language_info": {
   "codemirror_mode": {
    "name": "ipython",
    "version": 3
   },
   "file_extension": ".py",
   "mimetype": "text/x-python",
   "name": "python",
   "nbconvert_exporter": "python",
   "pygments_lexer": "ipython3",
   "version": "3.9.7"
  }
 },
 "nbformat": 4,
 "nbformat_minor": 5
}
